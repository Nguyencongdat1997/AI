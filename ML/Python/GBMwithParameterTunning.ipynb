{
 "cells": [
  {
   "cell_type": "code",
   "execution_count": 1,
   "metadata": {
    "collapsed": true,
    "scrolled": true
   },
   "outputs": [],
   "source": [
    "import pandas as pd\n",
    "import numpy as np\n",
    "import matplotlib as mplt\n",
    "import matplotlib.pyplot as plt\n",
    "%matplotlib inline"
   ]
  },
  {
   "cell_type": "markdown",
   "metadata": {
    "collapsed": true
   },
   "source": [
    "# Load Data"
   ]
  },
  {
   "cell_type": "code",
   "execution_count": 2,
   "metadata": {
    "collapsed": true
   },
   "outputs": [],
   "source": [
    "data_frame = pd.read_csv(\"E:/environment/git/AI/ML/Data/Loan Data of Dreaming Housing Finance/train.csv\")"
   ]
  },
  {
   "cell_type": "code",
   "execution_count": 3,
   "metadata": {
    "collapsed": false
   },
   "outputs": [
    {
     "data": {
      "text/html": [
       "<div>\n",
       "<style>\n",
       "    .dataframe thead tr:only-child th {\n",
       "        text-align: right;\n",
       "    }\n",
       "\n",
       "    .dataframe thead th {\n",
       "        text-align: left;\n",
       "    }\n",
       "\n",
       "    .dataframe tbody tr th {\n",
       "        vertical-align: top;\n",
       "    }\n",
       "</style>\n",
       "<table border=\"1\" class=\"dataframe\">\n",
       "  <thead>\n",
       "    <tr style=\"text-align: right;\">\n",
       "      <th></th>\n",
       "      <th>Loan_ID</th>\n",
       "      <th>Gender</th>\n",
       "      <th>Married</th>\n",
       "      <th>Dependents</th>\n",
       "      <th>Education</th>\n",
       "      <th>Self_Employed</th>\n",
       "      <th>ApplicantIncome</th>\n",
       "      <th>CoapplicantIncome</th>\n",
       "      <th>LoanAmount</th>\n",
       "      <th>Loan_Amount_Term</th>\n",
       "      <th>Credit_History</th>\n",
       "      <th>Property_Area</th>\n",
       "      <th>Loan_Status</th>\n",
       "    </tr>\n",
       "  </thead>\n",
       "  <tbody>\n",
       "    <tr>\n",
       "      <th>0</th>\n",
       "      <td>LP001002</td>\n",
       "      <td>Male</td>\n",
       "      <td>No</td>\n",
       "      <td>0</td>\n",
       "      <td>Graduate</td>\n",
       "      <td>No</td>\n",
       "      <td>5849</td>\n",
       "      <td>0.0</td>\n",
       "      <td>NaN</td>\n",
       "      <td>360.0</td>\n",
       "      <td>1.0</td>\n",
       "      <td>Urban</td>\n",
       "      <td>Y</td>\n",
       "    </tr>\n",
       "    <tr>\n",
       "      <th>1</th>\n",
       "      <td>LP001003</td>\n",
       "      <td>Male</td>\n",
       "      <td>Yes</td>\n",
       "      <td>1</td>\n",
       "      <td>Graduate</td>\n",
       "      <td>No</td>\n",
       "      <td>4583</td>\n",
       "      <td>1508.0</td>\n",
       "      <td>128.0</td>\n",
       "      <td>360.0</td>\n",
       "      <td>1.0</td>\n",
       "      <td>Rural</td>\n",
       "      <td>N</td>\n",
       "    </tr>\n",
       "    <tr>\n",
       "      <th>2</th>\n",
       "      <td>LP001005</td>\n",
       "      <td>Male</td>\n",
       "      <td>Yes</td>\n",
       "      <td>0</td>\n",
       "      <td>Graduate</td>\n",
       "      <td>Yes</td>\n",
       "      <td>3000</td>\n",
       "      <td>0.0</td>\n",
       "      <td>66.0</td>\n",
       "      <td>360.0</td>\n",
       "      <td>1.0</td>\n",
       "      <td>Urban</td>\n",
       "      <td>Y</td>\n",
       "    </tr>\n",
       "  </tbody>\n",
       "</table>\n",
       "</div>"
      ],
      "text/plain": [
       "    Loan_ID Gender Married Dependents Education Self_Employed  \\\n",
       "0  LP001002   Male      No          0  Graduate            No   \n",
       "1  LP001003   Male     Yes          1  Graduate            No   \n",
       "2  LP001005   Male     Yes          0  Graduate           Yes   \n",
       "\n",
       "   ApplicantIncome  CoapplicantIncome  LoanAmount  Loan_Amount_Term  \\\n",
       "0             5849                0.0         NaN             360.0   \n",
       "1             4583             1508.0       128.0             360.0   \n",
       "2             3000                0.0        66.0             360.0   \n",
       "\n",
       "   Credit_History Property_Area Loan_Status  \n",
       "0             1.0         Urban           Y  \n",
       "1             1.0         Rural           N  \n",
       "2             1.0         Urban           Y  "
      ]
     },
     "execution_count": 3,
     "metadata": {},
     "output_type": "execute_result"
    }
   ],
   "source": [
    "data_frame.head(3)"
   ]
  },
  {
   "cell_type": "code",
   "execution_count": 4,
   "metadata": {
    "collapsed": false
   },
   "outputs": [
    {
     "data": {
      "text/html": [
       "<div>\n",
       "<style>\n",
       "    .dataframe thead tr:only-child th {\n",
       "        text-align: right;\n",
       "    }\n",
       "\n",
       "    .dataframe thead th {\n",
       "        text-align: left;\n",
       "    }\n",
       "\n",
       "    .dataframe tbody tr th {\n",
       "        vertical-align: top;\n",
       "    }\n",
       "</style>\n",
       "<table border=\"1\" class=\"dataframe\">\n",
       "  <thead>\n",
       "    <tr style=\"text-align: right;\">\n",
       "      <th></th>\n",
       "      <th>ApplicantIncome</th>\n",
       "      <th>CoapplicantIncome</th>\n",
       "      <th>LoanAmount</th>\n",
       "      <th>Loan_Amount_Term</th>\n",
       "      <th>Credit_History</th>\n",
       "    </tr>\n",
       "  </thead>\n",
       "  <tbody>\n",
       "    <tr>\n",
       "      <th>count</th>\n",
       "      <td>614.000000</td>\n",
       "      <td>614.000000</td>\n",
       "      <td>592.000000</td>\n",
       "      <td>600.00000</td>\n",
       "      <td>564.000000</td>\n",
       "    </tr>\n",
       "    <tr>\n",
       "      <th>mean</th>\n",
       "      <td>5403.459283</td>\n",
       "      <td>1621.245798</td>\n",
       "      <td>146.412162</td>\n",
       "      <td>342.00000</td>\n",
       "      <td>0.842199</td>\n",
       "    </tr>\n",
       "    <tr>\n",
       "      <th>std</th>\n",
       "      <td>6109.041673</td>\n",
       "      <td>2926.248369</td>\n",
       "      <td>85.587325</td>\n",
       "      <td>65.12041</td>\n",
       "      <td>0.364878</td>\n",
       "    </tr>\n",
       "    <tr>\n",
       "      <th>min</th>\n",
       "      <td>150.000000</td>\n",
       "      <td>0.000000</td>\n",
       "      <td>9.000000</td>\n",
       "      <td>12.00000</td>\n",
       "      <td>0.000000</td>\n",
       "    </tr>\n",
       "    <tr>\n",
       "      <th>25%</th>\n",
       "      <td>2877.500000</td>\n",
       "      <td>0.000000</td>\n",
       "      <td>100.000000</td>\n",
       "      <td>360.00000</td>\n",
       "      <td>1.000000</td>\n",
       "    </tr>\n",
       "    <tr>\n",
       "      <th>50%</th>\n",
       "      <td>3812.500000</td>\n",
       "      <td>1188.500000</td>\n",
       "      <td>128.000000</td>\n",
       "      <td>360.00000</td>\n",
       "      <td>1.000000</td>\n",
       "    </tr>\n",
       "    <tr>\n",
       "      <th>75%</th>\n",
       "      <td>5795.000000</td>\n",
       "      <td>2297.250000</td>\n",
       "      <td>168.000000</td>\n",
       "      <td>360.00000</td>\n",
       "      <td>1.000000</td>\n",
       "    </tr>\n",
       "    <tr>\n",
       "      <th>max</th>\n",
       "      <td>81000.000000</td>\n",
       "      <td>41667.000000</td>\n",
       "      <td>700.000000</td>\n",
       "      <td>480.00000</td>\n",
       "      <td>1.000000</td>\n",
       "    </tr>\n",
       "  </tbody>\n",
       "</table>\n",
       "</div>"
      ],
      "text/plain": [
       "       ApplicantIncome  CoapplicantIncome  LoanAmount  Loan_Amount_Term  \\\n",
       "count       614.000000         614.000000  592.000000         600.00000   \n",
       "mean       5403.459283        1621.245798  146.412162         342.00000   \n",
       "std        6109.041673        2926.248369   85.587325          65.12041   \n",
       "min         150.000000           0.000000    9.000000          12.00000   \n",
       "25%        2877.500000           0.000000  100.000000         360.00000   \n",
       "50%        3812.500000        1188.500000  128.000000         360.00000   \n",
       "75%        5795.000000        2297.250000  168.000000         360.00000   \n",
       "max       81000.000000       41667.000000  700.000000         480.00000   \n",
       "\n",
       "       Credit_History  \n",
       "count      564.000000  \n",
       "mean         0.842199  \n",
       "std          0.364878  \n",
       "min          0.000000  \n",
       "25%          1.000000  \n",
       "50%          1.000000  \n",
       "75%          1.000000  \n",
       "max          1.000000  "
      ]
     },
     "execution_count": 4,
     "metadata": {},
     "output_type": "execute_result"
    }
   ],
   "source": [
    "data_frame.describe() #get summeries of variables"
   ]
  },
  {
   "cell_type": "code",
   "execution_count": 5,
   "metadata": {
    "collapsed": false
   },
   "outputs": [
    {
     "data": {
      "text/plain": [
       "Loan_ID               0\n",
       "Gender               13\n",
       "Married               3\n",
       "Dependents           15\n",
       "Education             0\n",
       "Self_Employed        32\n",
       "ApplicantIncome       0\n",
       "CoapplicantIncome     0\n",
       "LoanAmount           22\n",
       "Loan_Amount_Term     14\n",
       "Credit_History       50\n",
       "Property_Area         0\n",
       "Loan_Status           0\n",
       "dtype: int64"
      ]
     },
     "execution_count": 5,
     "metadata": {},
     "output_type": "execute_result"
    }
   ],
   "source": [
    "data_frame.apply(lambda x: sum(x.isnull()),axis=0)  #check missing value"
   ]
  },
  {
   "cell_type": "markdown",
   "metadata": {},
   "source": [
    "# Data manipulation"
   ]
  },
  {
   "cell_type": "code",
   "execution_count": 6,
   "metadata": {
    "collapsed": true
   },
   "outputs": [],
   "source": [
    "#check some columns that have null values:\n",
    "#data_frame['Gender'].value_counts() #-> 489 Male vs 112 Female\n",
    "#data_frame['Married'].value_counts() #-> 398 Yes vs 213 No\n",
    "#data_frame['Self_Employed'].value_counts() #-> 500 No, 82 Yes => could replace null by No\n",
    "#data_frame['Credit_History'].value_counts() #-> 475 1.0 vs 89 0.0 => couldd replace null by 1.0\n",
    "#data_frame['Property_Area'].value_counts()"
   ]
  },
  {
   "cell_type": "code",
   "execution_count": 7,
   "metadata": {
    "collapsed": true
   },
   "outputs": [],
   "source": [
    "#replace null values\n",
    "\n",
    "#replace null values of Self_employed to No \n",
    "data_frame['Self_Employed'].fillna('No',inplace = True)\n",
    "#replace null values of Credit_History to 1.0\n",
    "data_frame['Credit_History'].fillna(1.0,inplace = True)\n",
    "#replace null values of Credit_History to 1.0\n",
    "data_frame['Gender'].fillna('Male',inplace = True)\n",
    "#replace null values of Credit_History to 1.0\n",
    "data_frame['Married'].fillna('Yes',inplace = True)\n",
    "#replace null values of LoanAmount to mean value of its\n",
    "data_frame['LoanAmount'].fillna(data_frame['LoanAmount'].mean(), inplace=True)\n",
    "#replace null values of Loan_Amount_Term to mean value of its\n",
    "data_frame['Loan_Amount_Term'].fillna(data_frame['Loan_Amount_Term'].mean(), inplace=True)"
   ]
  },
  {
   "cell_type": "code",
   "execution_count": 8,
   "metadata": {
    "collapsed": false
   },
   "outputs": [
    {
     "data": {
      "text/plain": [
       "<matplotlib.axes._subplots.AxesSubplot at 0x213abb663c8>"
      ]
     },
     "execution_count": 8,
     "metadata": {},
     "output_type": "execute_result"
    },
    {
     "data": {
      "image/png": "[encoded data removed]",
      "text/plain": [
       "<matplotlib.figure.Figure at 0x213abadbef0>"
      ]
     },
     "metadata": {},
     "output_type": "display_data"
    }
   ],
   "source": [
    "#rescale some vairables\n",
    "data_frame['LoanAmount_log'] = np.log(data_frame['LoanAmount'])\n",
    "data_frame['TotalIncome'] = data_frame['ApplicantIncome'] + data_frame['CoapplicantIncome']\n",
    "data_frame['TotalIncome_log'] = np.log(data_frame['TotalIncome'])\n",
    "data_frame['LoanAmount_log'].hist(bins=20) "
   ]
  },
  {
   "cell_type": "code",
   "execution_count": 9,
   "metadata": {
    "collapsed": false
   },
   "outputs": [
    {
     "data": {
      "text/plain": [
       "Loan_ID               object\n",
       "Gender                 int64\n",
       "Married                int64\n",
       "Dependents            object\n",
       "Education              int64\n",
       "Self_Employed          int64\n",
       "ApplicantIncome        int64\n",
       "CoapplicantIncome    float64\n",
       "LoanAmount           float64\n",
       "Loan_Amount_Term     float64\n",
       "Credit_History       float64\n",
       "Property_Area          int64\n",
       "Loan_Status            int64\n",
       "LoanAmount_log       float64\n",
       "TotalIncome          float64\n",
       "TotalIncome_log      float64\n",
       "dtype: object"
      ]
     },
     "execution_count": 9,
     "metadata": {},
     "output_type": "execute_result"
    }
   ],
   "source": [
    "#convert all our categorical variables into numeric by encoding the categories\n",
    "from sklearn.preprocessing import LabelEncoder\n",
    "var_mod = ['Education','Self_Employed','Property_Area','Gender','Married','Loan_Status']\n",
    "le = LabelEncoder()\n",
    "for i in var_mod:\n",
    "    data_frame[i] = le.fit_transform(data_frame[i])\n",
    "data_frame.dtypes "
   ]
  },
  {
   "cell_type": "markdown",
   "metadata": {},
   "source": [
    "# Model's creation and training"
   ]
  },
  {
   "cell_type": "code",
   "execution_count": 10,
   "metadata": {
    "collapsed": false
   },
   "outputs": [
    {
     "name": "stderr",
     "output_type": "stream",
     "text": [
      "C:\\Users\\DatGatto\\Anaconda2\\envs\\fastai\\lib\\site-packages\\sklearn\\cross_validation.py:41: DeprecationWarning: This module was deprecated in version 0.18 in favor of the model_selection module into which all the refactored classes and functions are moved. Also note that the interface of the new CV iterators are different from that of this module. This module will be removed in 0.20.\n",
      "  \"This module will be removed in 0.20.\", DeprecationWarning)\n",
      "C:\\Users\\DatGatto\\Anaconda2\\envs\\fastai\\lib\\site-packages\\sklearn\\grid_search.py:42: DeprecationWarning: This module was deprecated in version 0.18 in favor of the model_selection module into which all the refactored classes and functions are moved. This module will be removed in 0.20.\n",
      "  DeprecationWarning)\n"
     ]
    }
   ],
   "source": [
    "#Import models from scikit learn module:\n",
    "from sklearn.linear_model import LogisticRegression\n",
    "from sklearn.cross_validation import KFold   #For K-fold cross validation\n",
    "from sklearn.ensemble import RandomForestClassifier, GradientBoostingClassifier\n",
    "from sklearn.tree import DecisionTreeClassifier, export_graphviz\n",
    "from sklearn.grid_search import GridSearchCV\n",
    "from sklearn import metrics\n",
    "\n",
    "#Generic function for making a classification model and accessing performance:\n",
    "def classification_model(model, data, predictors, outcome):\n",
    "  #Fit the model:\n",
    "  model.fit(data[predictors],data[outcome])\n",
    "  \n",
    "  #Make predictions on training set:\n",
    "  predictions = model.predict(data[predictors])\n",
    "  \n",
    "  #Print accuracy\n",
    "  accuracy = metrics.accuracy_score(predictions,data[outcome])\n",
    "  print (\"Accuracy : %s\" % \"{0:.3%}\".format(accuracy))\n",
    "\n",
    "  #Perform k-fold cross-validation with 5 folds\n",
    "  kf = KFold(data.shape[0], n_folds=5)\n",
    "  error = []\n",
    "  for train, test in kf:\n",
    "    # Filter training data\n",
    "    train_predictors = (data[predictors].iloc[train,:])\n",
    "    \n",
    "    # The target we're using to train the algorithm.\n",
    "    train_target = data[outcome].iloc[train]\n",
    "    \n",
    "    # Training the algorithm using the predictors and target.\n",
    "    model.fit(train_predictors, train_target)\n",
    "    \n",
    "    #Record error from each cross-validation run\n",
    "    error.append(model.score(data[predictors].iloc[test,:], data[outcome].iloc[test]))\n",
    " \n",
    "  print (\"Cross-Validation Score : %s\" % \"{0:.3%}\".format(np.mean(error)))\n",
    "  \n",
    "  #Print feature importance:\n",
    "  feature_importance = pd.Series(model.feature_importances_,predictors).sort_values(ascending=True)\n",
    "  feature_importance.plot(kind='bar', title='Feature Importances')\n",
    "  plt.ylabel('Feature Importance Score')\n",
    "  #Fit the model again so that it can be refered outside the function:\n",
    "  model.fit(data[predictors],data[outcome]) "
   ]
  },
  {
   "cell_type": "code",
   "execution_count": 11,
   "metadata": {
    "collapsed": true
   },
   "outputs": [],
   "source": [
    "outcome_var = 'Loan_Status'"
   ]
  },
  {
   "cell_type": "code",
   "execution_count": 12,
   "metadata": {
    "collapsed": false
   },
   "outputs": [
    {
     "name": "stdout",
     "output_type": "stream",
     "text": [
      "Accuracy : 89.414%\n",
      "Cross-Validation Score : 78.182%\n"
     ]
    },
    {
     "data": {
      "image/png": "[encoded data removed]",
      "text/plain": [
       "<matplotlib.figure.Figure at 0x213ace556d8>"
      ]
     },
     "metadata": {},
     "output_type": "display_data"
    }
   ],
   "source": [
    "predictor_var = ['Education','Self_Employed','Property_Area','Married','Gender','Credit_History','LoanAmount_log','TotalIncome_log','Loan_Amount_Term']\n",
    "\n",
    "#First try\n",
    "model = GradientBoostingClassifier(random_state=10)\n",
    "classification_model(model, data_frame ,predictor_var,outcome_var)"
   ]
  },
  {
   "cell_type": "markdown",
   "metadata": {
    "collapsed": true
   },
   "source": [
    "# Deeper understanding in tuning parameters"
   ]
  },
  {
   "cell_type": "markdown",
   "metadata": {},
   "source": [
    "*Following the post: https://www.analyticsvidhya.com/blog/2016/02/complete-guide-parameter-tuning-gradient-boosting-gbm-python/ "
   ]
  },
  {
   "cell_type": "markdown",
   "metadata": {},
   "source": [
    "The overall parameters can be divided into 3 categories:\n",
    "\n",
    "A)Tree-Specific Parameters: These affect each individual tree in the model.\n",
    "B)Boosting Parameters: These affect the boosting operation in the model.\n",
    "C)Miscellaneous Parameters: Other parameters for overall functioning."
   ]
  },
  {
   "cell_type": "markdown",
   "metadata": {},
   "source": [
    "A)Tree-Specific Parameters:\n",
    "1) min_samples_split\n",
    "    Defines the minimum number of samples (or observations) which are required in a node to be considered for splitting.\n",
    "    Used to control over-fitting. Higher values prevent a model from learning relations which might be highly specific to the particular sample selected for a tree.\n",
    "    Too high values can lead to under-fitting hence, it should be tuned using CV.\n",
    "2) min_samples_leaf\n",
    "    Defines the minimum samples (or observations) required in a terminal node or leaf.\n",
    "    Used to control over-fitting similar to min_samples_split.\n",
    "    Generally lower values should be chosen for imbalanced class problems because the regions in which the minority class will be in majority will be very small.\n",
    "3) min_weight_fraction_leaf\n",
    "    Similar to min_samples_leaf but defined as a fraction of the total number of observations instead of an integer.\n",
    "    Only one of #2 and #3 should be defined.\n",
    "4) max_depth\n",
    "    The maximum depth of a tree.\n",
    "    Used to control over-fitting as higher depth will allow model to learn relations very specific to a particular sample.\n",
    "    Should be tuned using CV.\n",
    "5) max_leaf_nodes\n",
    "    The maximum number of terminal nodes or leaves in a tree.\n",
    "    Can be defined in place of max_depth. Since binary trees are created, a depth of ‘n’ would produce a maximum of 2^n leaves.\n",
    "    If this is defined, GBM will ignore max_depth.\n",
    "6) max_features\n",
    "    The number of features to consider while searching for a best split. These will be randomly selected.\n",
    "    As a thumb-rule, square root of the total number of features works great but we should check upto 30-40% of the total number of features.\n",
    "    Higher values can lead to over-fitting but depends on case to case."
   ]
  },
  {
   "cell_type": "markdown",
   "metadata": {},
   "source": [
    "*GBM algorithm :\n",
    "1. Initialize the outcome\n",
    "2. Iterate from 1 to total number of trees\n",
    "  2.1 Update the weights for targets based on previous run (higher for the ones mis-classified)\n",
    "  2.2 Fit the model on selected subsample of data\n",
    "  2.3 Make predictions on the full set of observations\n",
    "  2.4 Update the output with current results taking into account the learning rate\n",
    "3. Return the final output.\n",
    "\n",
    "B) Boosting Parameters:\n",
    "1) learning_rate\n",
    "    This determines the impact of each tree on the final outcome (step 2.4). GBM works by starting with an initial estimate which is updated using the output of each tree. The learning parameter controls the magnitude of this change in the estimates.\n",
    "    Lower values are generally preferred as they make the model robust to the specific characteristics of tree and thus allowing it to generalize well.\n",
    "    Lower values would require higher number of trees to model all the relations and will be computationally expensive.\n",
    "2) n_estimators\n",
    "    The number of sequential trees to be modeled (step 2)\n",
    "    Though GBM is fairly robust at higher number of trees but it can still overfit at a point. Hence, this should be tuned using CV for a particular learning rate.\n",
    "3) subsample\n",
    "    The fraction of observations to be selected for each tree. Selection is done by random sampling.\n",
    "    Values slightly less than 1 make the model robust by reducing the variance.\n",
    "    Typical values ~0.8 generally work fine but can be fine-tuned further."
   ]
  },
  {
   "cell_type": "markdown",
   "metadata": {},
   "source": [
    "C) Miscellaneous Parameters:\n",
    "\n",
    "1) loss\n",
    "    It refers to the loss function to be minimized in each split.\n",
    "    It can have various values for classification and regression case. Generally the default values work fine. Other values should be chosen only if you understand their impact on the model.\n",
    "2) init\n",
    "    This affects initialization of the output.\n",
    "    This can be used if we have made another model whose outcome is to be used as the initial estimates for GBM.\n",
    "3) random_state\n",
    "    The random number seed so that same random numbers are generated every time.\n",
    "    This is important for parameter tuning. If we don’t fix the random number, then we’ll have different outcomes for subsequent runs on the same parameters and it becomes difficult to compare models.\n",
    "    It can potentially result in overfitting to a particular random sample selected. We can try running models for different random samples, which is computationally expensive and generally not used.\n",
    "4) verbose\n",
    "    The type of output to be printed when the model fits. The different values can be:\n",
    "    0: no output generated (default)\n",
    "    1: output generated for trees in certain intervals\n",
    "    >1: output generated for all trees\n",
    "5) warm_start\n",
    "    This parameter has an interesting application and can help a lot if used judicially.\n",
    "    Using this, we can fit additional trees on previous fits of a model. It can save a lot of time and you should explore this option for advanced applications\n",
    "6) presort \n",
    "    Select whether to presort data for faster splits.\n",
    "    It makes the selection automatically by default but it can be changed if needed."
   ]
  },
  {
   "cell_type": "markdown",
   "metadata": {},
   "source": [
    "TUNNING PROCESS:\n",
    " -Step1: Choose a relatively high learning rate. Generally the default value of 0.1 works but somewhere between 0.05 to 0.2 should work for different problems\n",
    " -Step2: Determine the optimum number of trees for this learning rate. This should range around 40-70. \n",
    " -Step3: Tune tree-specific parameters for decided learning rate and number of trees.\n",
    " -Step4: Lower the learning rate and increase the estimators proportionally to get more robust models.\n",
    "\n",
    "*note: GBM is robust enough to not overfit with increasing trees, but a high number for pa particular learning rate can lead to overfitting. But as we reduce the learning rate and increase trees, the computation becomes expensive and would take a long time to run on standard personal computers."
   ]
  },
  {
   "cell_type": "code",
   "execution_count": 65,
   "metadata": {
    "collapsed": true
   },
   "outputs": [],
   "source": [
    "#Step 1: Choose learning_rate = 0.1\n",
    "chosen_learning_rate = 0.2"
   ]
  },
  {
   "cell_type": "code",
   "execution_count": 71,
   "metadata": {
    "collapsed": false
   },
   "outputs": [
    {
     "data": {
      "text/plain": [
       "([mean: 0.73701, std: 0.04153, params: {'n_estimators': 20},\n",
       "  mean: 0.74215, std: 0.04078, params: {'n_estimators': 30},\n",
       "  mean: 0.73743, std: 0.04273, params: {'n_estimators': 40},\n",
       "  mean: 0.74308, std: 0.03552, params: {'n_estimators': 50},\n",
       "  mean: 0.74228, std: 0.03710, params: {'n_estimators': 60},\n",
       "  mean: 0.74078, std: 0.03601, params: {'n_estimators': 70},\n",
       "  mean: 0.73953, std: 0.03644, params: {'n_estimators': 80}],\n",
       " {'n_estimators': 50},\n",
       " 0.7430805520588801)"
      ]
     },
     "execution_count": 71,
     "metadata": {},
     "output_type": "execute_result"
    }
   ],
   "source": [
    "#Step 2: Find the number of estimators:\n",
    "#We fixed the learning_rate = 0.1 then test along estimators from 20 to 80 in steps of 10\n",
    "'''\n",
    "*note:Fix learning rate and number of estimators for tuning tree-based parameters.In order to decide on boosting parameters, we need to set some initial values of other parameters. Lets take the following values:\n",
    "- min_samples_split = 6 : This should be ~0.5-1% of total values. \n",
    "- min_samples_leaf = 50 : Can be selected based on intuition. This is just used for preventing overfitting and again a small value because of imbalanced classes.\n",
    "- max_depth = 8 : Should be chosen (5-8) based on the number of observations and predictors. \n",
    "- max_features = ‘sqrt’ : Its a general thumb-rule to start with square root.\n",
    "- subsample = 0.8 : This is a commonly used used start value\n",
    "'''\n",
    "param_test1 = {'n_estimators':[i for i in range(20,81,10)]}\n",
    "gsearch1 = GridSearchCV(estimator = GradientBoostingClassifier(learning_rate=chosen_learning_rate, min_samples_split=6,min_samples_leaf=50,max_depth=8,max_features='sqrt',subsample=0.8,random_state=10), \n",
    "param_grid = param_test1, scoring='roc_auc',n_jobs=4,iid=False, cv=5)\n",
    "gsearch1.fit(data_frame[predictor_var],data_frame[outcome_var])\n",
    "gsearch1.grid_scores_, gsearch1.best_params_, gsearch1.best_score_"
   ]
  },
  {
   "cell_type": "code",
   "execution_count": null,
   "metadata": {
    "collapsed": true
   },
   "outputs": [],
   "source": [
    "#Step3\n",
    "#Test Tree-specific parameter:\n",
    "#*note: variables should be tested with higher impact on outcome first: For examples:\n",
    "#    1.Tune max_depth and num_samples_split\n",
    "#    2.Tune min_samples_leaf\n",
    "#    3.Tune max_features"
   ]
  },
  {
   "cell_type": "code",
   "execution_count": 74,
   "metadata": {
    "collapsed": false
   },
   "outputs": [
    {
     "data": {
      "text/plain": [
       "([mean: 0.74469, std: 0.03944, params: {'max_depth': 5, 'min_samples_split': 2},\n",
       "  mean: 0.75633, std: 0.03508, params: {'max_depth': 5, 'min_samples_split': 3},\n",
       "  mean: 0.74592, std: 0.04070, params: {'max_depth': 5, 'min_samples_split': 4},\n",
       "  mean: 0.73856, std: 0.05842, params: {'max_depth': 5, 'min_samples_split': 5},\n",
       "  mean: 0.73906, std: 0.04769, params: {'max_depth': 5, 'min_samples_split': 6},\n",
       "  mean: 0.74440, std: 0.05333, params: {'max_depth': 5, 'min_samples_split': 7},\n",
       "  mean: 0.72824, std: 0.05916, params: {'max_depth': 7, 'min_samples_split': 2},\n",
       "  mean: 0.73603, std: 0.05635, params: {'max_depth': 7, 'min_samples_split': 3},\n",
       "  mean: 0.74568, std: 0.03921, params: {'max_depth': 7, 'min_samples_split': 4},\n",
       "  mean: 0.73331, std: 0.04295, params: {'max_depth': 7, 'min_samples_split': 5},\n",
       "  mean: 0.74207, std: 0.05233, params: {'max_depth': 7, 'min_samples_split': 6},\n",
       "  mean: 0.74202, std: 0.05629, params: {'max_depth': 7, 'min_samples_split': 7},\n",
       "  mean: 0.74435, std: 0.03558, params: {'max_depth': 9, 'min_samples_split': 2},\n",
       "  mean: 0.74204, std: 0.04422, params: {'max_depth': 9, 'min_samples_split': 3},\n",
       "  mean: 0.74073, std: 0.05180, params: {'max_depth': 9, 'min_samples_split': 4},\n",
       "  mean: 0.73627, std: 0.04591, params: {'max_depth': 9, 'min_samples_split': 5},\n",
       "  mean: 0.72831, std: 0.04605, params: {'max_depth': 9, 'min_samples_split': 6},\n",
       "  mean: 0.73322, std: 0.05452, params: {'max_depth': 9, 'min_samples_split': 7},\n",
       "  mean: 0.74520, std: 0.05549, params: {'max_depth': 11, 'min_samples_split': 2},\n",
       "  mean: 0.73756, std: 0.05082, params: {'max_depth': 11, 'min_samples_split': 3},\n",
       "  mean: 0.73638, std: 0.04564, params: {'max_depth': 11, 'min_samples_split': 4},\n",
       "  mean: 0.73288, std: 0.04797, params: {'max_depth': 11, 'min_samples_split': 5},\n",
       "  mean: 0.72574, std: 0.05897, params: {'max_depth': 11, 'min_samples_split': 6},\n",
       "  mean: 0.74660, std: 0.04503, params: {'max_depth': 11, 'min_samples_split': 7},\n",
       "  mean: 0.74433, std: 0.04466, params: {'max_depth': 13, 'min_samples_split': 2},\n",
       "  mean: 0.74570, std: 0.05175, params: {'max_depth': 13, 'min_samples_split': 3},\n",
       "  mean: 0.73207, std: 0.05566, params: {'max_depth': 13, 'min_samples_split': 4},\n",
       "  mean: 0.74324, std: 0.04228, params: {'max_depth': 13, 'min_samples_split': 5},\n",
       "  mean: 0.73959, std: 0.05314, params: {'max_depth': 13, 'min_samples_split': 6},\n",
       "  mean: 0.73199, std: 0.06477, params: {'max_depth': 13, 'min_samples_split': 7},\n",
       "  mean: 0.75332, std: 0.04580, params: {'max_depth': 15, 'min_samples_split': 2},\n",
       "  mean: 0.73607, std: 0.05128, params: {'max_depth': 15, 'min_samples_split': 3},\n",
       "  mean: 0.75330, std: 0.04710, params: {'max_depth': 15, 'min_samples_split': 4},\n",
       "  mean: 0.73453, std: 0.05471, params: {'max_depth': 15, 'min_samples_split': 5},\n",
       "  mean: 0.73654, std: 0.04548, params: {'max_depth': 15, 'min_samples_split': 6},\n",
       "  mean: 0.73181, std: 0.05806, params: {'max_depth': 15, 'min_samples_split': 7}],\n",
       " {'max_depth': 5, 'min_samples_split': 3},\n",
       " 0.7563274986107804)"
      ]
     },
     "execution_count": 74,
     "metadata": {},
     "output_type": "execute_result"
    }
   ],
   "source": [
    "#Step 3.1: We would test max_depth in the range from 5 to 15 in steps of 2 , min_samples_split in range from 2 to 7 with learning_rate = 0.1 and n_estimators=50 (as the result of the previous step)\n",
    "param_test2 = {'max_depth':[i for i in range(5,16,2)], 'min_samples_split':[i for i in range(2,8,1)]}\n",
    "gsearch2 = GridSearchCV(estimator = GradientBoostingClassifier(learning_rate=0.1, n_estimators=50, max_features='sqrt', subsample=0.8, random_state=10), \n",
    "param_grid = param_test2, scoring='roc_auc',n_jobs=4,iid=False, cv=5)\n",
    "gsearch2.fit(data_frame[predictor_var],data_frame[outcome_var])\n",
    "gsearch2.grid_scores_, gsearch2.best_params_, gsearch2.best_score_"
   ]
  },
  {
   "cell_type": "code",
   "execution_count": 84,
   "metadata": {
    "collapsed": false
   },
   "outputs": [
    {
     "data": {
      "text/plain": [
       "([mean: 0.74144, std: 0.04093, params: {'min_samples_leaf': 3},\n",
       "  mean: 0.75394, std: 0.03808, params: {'min_samples_leaf': 6},\n",
       "  mean: 0.75067, std: 0.02882, params: {'min_samples_leaf': 9},\n",
       "  mean: 0.74531, std: 0.04388, params: {'min_samples_leaf': 12},\n",
       "  mean: 0.74389, std: 0.04086, params: {'min_samples_leaf': 15},\n",
       "  mean: 0.73671, std: 0.04025, params: {'min_samples_leaf': 18},\n",
       "  mean: 0.73454, std: 0.03935, params: {'min_samples_leaf': 21},\n",
       "  mean: 0.73061, std: 0.03965, params: {'min_samples_leaf': 24},\n",
       "  mean: 0.73313, std: 0.03721, params: {'min_samples_leaf': 27}],\n",
       " {'min_samples_leaf': 6},\n",
       " 0.7539400821057167)"
      ]
     },
     "execution_count": 84,
     "metadata": {},
     "output_type": "execute_result"
    }
   ],
   "source": [
    "#Step 3.2 :We would test min_samples_leaf in range from 3 to 30 in steps of 3  with learning_rate= 0.1, n_estimators= 50, max_depth= 5, min_samples_split= 3 (as the result of the previous steps)\n",
    "param_test3 = {'min_samples_leaf':[i for i in range(3,30,3)]}\n",
    "gsearch3 = GridSearchCV(estimator = GradientBoostingClassifier(learning_rate=0.1, n_estimators=50,max_depth=5,min_samples_split=3,max_features='sqrt', subsample=0.8, random_state=10), \n",
    "param_grid = param_test3, scoring='roc_auc',n_jobs=4,iid=False, cv=5)\n",
    "gsearch3.fit(data_frame[predictor_var],data_frame[outcome_var])\n",
    "gsearch3.grid_scores_, gsearch3.best_params_, gsearch3.best_score_"
   ]
  },
  {
   "cell_type": "code",
   "execution_count": 85,
   "metadata": {
    "collapsed": false
   },
   "outputs": [
    {
     "name": "stdout",
     "output_type": "stream",
     "text": [
      "Accuracy : 87.134%\n",
      "Cross-Validation Score : 78.831%\n"
     ]
    },
    {
     "data": {
      "image/png": "[encoded data removed]",
      "text/plain": [
       "<matplotlib.figure.Figure at 0x23be7f1eac8>"
      ]
     },
     "metadata": {},
     "output_type": "display_data"
    }
   ],
   "source": [
    "#Fit with model for a look:\n",
    "classification_model(gsearch3.best_estimator_, data_frame ,predictor_var,outcome_var)\n",
    "\n",
    "#*comment: here importance has been more equally distributed between features"
   ]
  },
  {
   "cell_type": "code",
   "execution_count": 86,
   "metadata": {
    "collapsed": false
   },
   "outputs": [
    {
     "data": {
      "text/plain": [
       "([mean: 0.75394, std: 0.03808, params: {'max_features': 3},\n",
       "  mean: 0.74971, std: 0.04209, params: {'max_features': 4},\n",
       "  mean: 0.74248, std: 0.04423, params: {'max_features': 5},\n",
       "  mean: 0.75603, std: 0.05373, params: {'max_features': 6},\n",
       "  mean: 0.74157, std: 0.04263, params: {'max_features': 7},\n",
       "  mean: 0.74241, std: 0.04227, params: {'max_features': 8},\n",
       "  mean: 0.74235, std: 0.04124, params: {'max_features': 9}],\n",
       " {'max_features': 6},\n",
       " 0.7560346000748478)"
      ]
     },
     "execution_count": 86,
     "metadata": {},
     "output_type": "execute_result"
    }
   ],
   "source": [
    "#Step 3.3 :We would test max_features in range from 2 to 9 with learning_rate= 0.1, n_estimators= 50, max_depth= 5, min_samples_split= 3, min_samples_leaf= 6 (as the result of the previous steps)\n",
    "param_test4 = {'max_features':[i for i in range(3,10)]}\n",
    "gsearch4 = GridSearchCV(estimator = GradientBoostingClassifier(learning_rate=0.1, n_estimators=50,max_depth=5,min_samples_split=3, min_samples_leaf=6, subsample=0.8, random_state=10), \n",
    "param_grid = param_test4, scoring='roc_auc',n_jobs=4,iid=False, cv=5)\n",
    "gsearch4.fit(data_frame[predictor_var],data_frame[outcome_var])\n",
    "gsearch4.grid_scores_, gsearch4.best_params_, gsearch4.best_score_"
   ]
  },
  {
   "cell_type": "code",
   "execution_count": null,
   "metadata": {
    "collapsed": true
   },
   "outputs": [],
   "source": [
    "#Step 4:"
   ]
  },
  {
   "cell_type": "code",
   "execution_count": 87,
   "metadata": {
    "collapsed": false
   },
   "outputs": [
    {
     "data": {
      "text/plain": [
       "([mean: 0.73930, std: 0.03491, params: {'subsample': 0.6},\n",
       "  mean: 0.75149, std: 0.05114, params: {'subsample': 0.7},\n",
       "  mean: 0.74234, std: 0.05065, params: {'subsample': 0.75},\n",
       "  mean: 0.75603, std: 0.05373, params: {'subsample': 0.8},\n",
       "  mean: 0.75334, std: 0.04515, params: {'subsample': 0.85},\n",
       "  mean: 0.74924, std: 0.05201, params: {'subsample': 0.9}],\n",
       " {'subsample': 0.8},\n",
       " 0.7560346000748478)"
      ]
     },
     "execution_count": 87,
     "metadata": {},
     "output_type": "execute_result"
    }
   ],
   "source": [
    "#Step 4.1:Testing subsample values:\n",
    "param_test5 = {'subsample':[0.6,0.7,0.75,0.8,0.85,0.9]}\n",
    "gsearch5 = GridSearchCV(estimator = GradientBoostingClassifier(learning_rate=0.1, n_estimators=50,max_depth=5,min_samples_split=3, min_samples_leaf=6,max_features=6, random_state=10),\n",
    "param_grid = param_test5, scoring='roc_auc',n_jobs=4,iid=False, cv=5)\n",
    "gsearch5.fit(data_frame[predictor_var],data_frame[outcome_var])\n",
    "gsearch5.grid_scores_, gsearch5.best_params_, gsearch5.best_score_"
   ]
  },
  {
   "cell_type": "code",
   "execution_count": 88,
   "metadata": {
    "collapsed": false
   },
   "outputs": [
    {
     "name": "stdout",
     "output_type": "stream",
     "text": [
      "Accuracy : 87.134%\n",
      "Cross-Validation Score : 78.831%\n"
     ]
    },
    {
     "data": {
      "image/png": "[encoded data removed]",
      "text/plain": [
       "<matplotlib.figure.Figure at 0x23be80eb0f0>"
      ]
     },
     "metadata": {},
     "output_type": "display_data"
    }
   ],
   "source": [
    "classification_model(gsearch3.best_estimator_, data_frame ,predictor_var,outcome_var)"
   ]
  },
  {
   "cell_type": "code",
   "execution_count": 89,
   "metadata": {
    "collapsed": false
   },
   "outputs": [
    {
     "name": "stdout",
     "output_type": "stream",
     "text": [
      "Accuracy : 88.111%\n",
      "Cross-Validation Score : 79.479%\n"
     ]
    },
    {
     "data": {
      "image/png": "[encoded data removed]",
      "text/plain": [
       "<matplotlib.figure.Figure at 0x23be813d898>"
      ]
     },
     "metadata": {},
     "output_type": "display_data"
    }
   ],
   "source": [
    "#Step 4.2: Lower learning rate and increase number of estimators with the same proportion.\n",
    "gbm_tuned_1 = GradientBoostingClassifier(learning_rate=0.05, n_estimators=100,max_depth=5, min_samples_split=3,min_samples_leaf=6, max_features=6, subsample=0.8, random_state=10)\n",
    "classification_model(gbm_tuned_1, data_frame ,predictor_var,outcome_var)"
   ]
  },
  {
   "cell_type": "code",
   "execution_count": 17,
   "metadata": {
    "collapsed": false
   },
   "outputs": [
    {
     "name": "stdout",
     "output_type": "stream",
     "text": [
      "Accuracy : 88.274%\n",
      "Cross-Validation Score : 78.990%\n"
     ]
    },
    {
     "data": {
      "image/png": "[encoded data removed]",
      "text/plain": [
       "<matplotlib.figure.Figure at 0x213ae1b1ac8>"
      ]
     },
     "metadata": {},
     "output_type": "display_data"
    }
   ],
   "source": [
    "#Step 4.2': Lower learning rate and increase number of estimators with the same proportion again.\n",
    "gbm_tuned_1 = GradientBoostingClassifier(learning_rate=0.0005, n_estimators=10000,max_depth=5, min_samples_split=3,min_samples_leaf=6, max_features=6, subsample=0.8, random_state=10)\n",
    "classification_model(gbm_tuned_1, data_frame ,predictor_var,outcome_var)"
   ]
  },
  {
   "cell_type": "code",
   "execution_count": 16,
   "metadata": {
    "collapsed": false
   },
   "outputs": [
    {
     "name": "stdout",
     "output_type": "stream",
     "text": [
      "Accuracy : 94.625%\n",
      "Cross-Validation Score : 76.713%\n"
     ]
    },
    {
     "data": {
      "image/png": "[encoded data removed]",
      "text/plain": [
       "<matplotlib.figure.Figure at 0x213af20c978>"
      ]
     },
     "metadata": {},
     "output_type": "display_data"
    }
   ],
   "source": [
    "#Step 4.2': Test again other learning rate\n",
    "gbm_tuned_1 = GradientBoostingClassifier(learning_rate=0.2, n_estimators=50,max_depth=5, min_samples_split=3,min_samples_leaf=6, max_features=6, subsample=0.8, random_state=10)\n",
    "classification_model(gbm_tuned_1, data_frame ,predictor_var,outcome_var)"
   ]
  },
  {
   "cell_type": "code",
   "execution_count": null,
   "metadata": {
    "collapsed": true
   },
   "outputs": [],
   "source": [
    "#=> Need retuning with learning_rate = 0.2"
   ]
  }
 ],
 "metadata": {
  "kernelspec": {
   "display_name": "Python 2",
   "language": "python",
   "name": "python2"
  },
  "language_info": {
   "codemirror_mode": {
    "name": "ipython",
    "version": 2
   },
   "file_extension": ".py",
   "mimetype": "text/x-python",
   "name": "python",
   "nbconvert_exporter": "python",
   "pygments_lexer": "ipython2",
   "version": "2.7.13"
  }
 },
 "nbformat": 4,
 "nbformat_minor": 2
}
